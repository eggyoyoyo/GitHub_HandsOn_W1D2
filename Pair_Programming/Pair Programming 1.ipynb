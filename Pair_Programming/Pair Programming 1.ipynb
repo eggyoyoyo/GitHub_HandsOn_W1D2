{
 "cells": [
  {
   "cell_type": "code",
   "execution_count": 5,
   "metadata": {},
   "outputs": [
    {
     "data": {
      "text/plain": [
       "'olleH'"
      ]
     },
     "execution_count": 5,
     "metadata": {},
     "output_type": "execute_result"
    }
   ],
   "source": [
    "def reverseString(Str):\n",
    "    length = len(Str)\n",
    "    reversed_position = length\n",
    "    toReturn = \"\"\n",
    "    for i in range(length):\n",
    "        reversed_position -= 1\n",
    "        toReturn = toReturn + Str[reversed_position]\n",
    "    return toReturn\n",
    "\n",
    "reverseString(\"Hello\")\n",
    "        "
   ]
  },
  {
   "cell_type": "code",
   "execution_count": 3,
   "metadata": {},
   "outputs": [
    {
     "name": "stdout",
     "output_type": "stream",
     "text": [
      "YES\n",
      "NO\n"
     ]
    }
   ],
   "source": [
    "def bagowords(name, bag):\n",
    "    l_bag = list(bag)\n",
    "    count = 0\n",
    "    for i in range(len(bag)):\n",
    "        if bag[i] in name:\n",
    "            name.remove(bag[i])\n",
    "            count += 1\n",
    "    \n",
    "    if count == len(bag):\n",
    "        print (\"YES\")\n",
    "        \n",
    "    else:\n",
    "        print (\"NO\")\n",
    "        \n",
    "bagowords(['y','n','p','g','n','l'],\"lynn\")\n",
    "bagowords(['y','n','p','g','l'],\"lynn\")\n",
    "    \n",
    "        \n",
    "        "
   ]
  },
  {
   "cell_type": "code",
   "execution_count": null,
   "metadata": {},
   "outputs": [],
   "source": []
  }
 ],
 "metadata": {
  "kernelspec": {
   "display_name": "Python 3",
   "language": "python",
   "name": "python3"
  },
  "language_info": {
   "codemirror_mode": {
    "name": "ipython",
    "version": 3
   },
   "file_extension": ".py",
   "mimetype": "text/x-python",
   "name": "python",
   "nbconvert_exporter": "python",
   "pygments_lexer": "ipython3",
   "version": "3.6.5"
  }
 },
 "nbformat": 4,
 "nbformat_minor": 2
}
